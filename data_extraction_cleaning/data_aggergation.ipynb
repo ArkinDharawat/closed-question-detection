{
 "cells": [
  {
   "cell_type": "code",
   "execution_count": 1,
   "metadata": {},
   "outputs": [],
   "source": [
    "import pandas as pd\n",
    "import os\n",
    "FOLDER_PATH=\"../so_dataset\""
   ]
  },
  {
   "cell_type": "code",
   "execution_count": 2,
   "metadata": {
    "pycharm": {
     "name": "#%%\n"
    }
   },
   "outputs": [],
   "source": [
    "df_open = pd.read_csv(os.path.join(FOLDER_PATH, \"so_questions_open.csv\"))\n",
    "df_closed = pd.read_csv(os.path.join(FOLDER_PATH,\"so_questions_closed.csv\"))"
   ]
  },
  {
   "cell_type": "code",
   "execution_count": 5,
   "metadata": {},
   "outputs": [],
   "source": [
    "df_open = df_open.sample(n=2000) # upper limit to 2000"
   ]
  },
  {
   "cell_type": "code",
   "execution_count": 6,
   "metadata": {},
   "outputs": [],
   "source": [
    "df_open['Label'] = 0 # open questions"
   ]
  },
  {
   "cell_type": "code",
   "execution_count": 7,
   "metadata": {},
   "outputs": [
    {
     "data": {
      "text/plain": [
       "0    2000\n",
       "Name: Label, dtype: int64"
      ]
     },
     "execution_count": 7,
     "metadata": {},
     "output_type": "execute_result"
    }
   ],
   "source": [
    "df_open['Label'].value_counts()"
   ]
  },
  {
   "cell_type": "code",
   "execution_count": 8,
   "metadata": {},
   "outputs": [],
   "source": [
    "def convert_label(close_reason_type_id):\n",
    "    \"\"\"\n",
    "    Refer to this for label details: \n",
    "    https://www.researchgate.net/publication/339447769_Why_Will_My_Question_Be_Closed_NLP-Based_Pre-Submission_Predictions_of_Question_Closing_Reasons_on_Stack_Overflow\n",
    "    \"\"\"\n",
    "    if close_reason_type_id == 102:\n",
    "        return 1 # off-topic\n",
    "    elif close_reason_type_id == 103:\n",
    "        return 2 # unclear\n",
    "    elif close_reason_type_id == 104:\n",
    "        return 3 # broad\n",
    "    elif close_reason_type_id == 105:\n",
    "        return 4 # opinion\n",
    "df_closed['Label'] = df_closed['CloseReasonTypeId'].apply(convert_label)"
   ]
  },
  {
   "cell_type": "code",
   "execution_count": 9,
   "metadata": {},
   "outputs": [
    {
     "data": {
      "text/plain": [
       "(1    1848\n",
       " 2    1374\n",
       " 3     816\n",
       " 4     110\n",
       " Name: Label, dtype: int64,\n",
       " (4148,))"
      ]
     },
     "execution_count": 9,
     "metadata": {},
     "output_type": "execute_result"
    }
   ],
   "source": [
    "df_closed['Label'].value_counts(), df_closed['Label'].shape"
   ]
  },
  {
   "cell_type": "code",
   "execution_count": 11,
   "metadata": {},
   "outputs": [
    {
     "data": {
      "text/html": [
       "<div>\n",
       "<style scoped>\n",
       "    .dataframe tbody tr th:only-of-type {\n",
       "        vertical-align: middle;\n",
       "    }\n",
       "\n",
       "    .dataframe tbody tr th {\n",
       "        vertical-align: top;\n",
       "    }\n",
       "\n",
       "    .dataframe thead th {\n",
       "        text-align: right;\n",
       "    }\n",
       "</style>\n",
       "<table border=\"1\" class=\"dataframe\">\n",
       "  <thead>\n",
       "    <tr style=\"text-align: right;\">\n",
       "      <th></th>\n",
       "      <th>Id.1</th>\n",
       "      <th>PostId</th>\n",
       "      <th>Title</th>\n",
       "    </tr>\n",
       "  </thead>\n",
       "  <tbody>\n",
       "    <tr>\n",
       "      <th>0</th>\n",
       "      <td>148249</td>\n",
       "      <td>148249</td>\n",
       "      <td>Is there any way to check which kind of RAM my...</td>\n",
       "    </tr>\n",
       "    <tr>\n",
       "      <th>1</th>\n",
       "      <td>289537</td>\n",
       "      <td>289537</td>\n",
       "      <td>A cool algorithm to check a Sudoku field?</td>\n",
       "    </tr>\n",
       "    <tr>\n",
       "      <th>2</th>\n",
       "      <td>1336207</td>\n",
       "      <td>1336207</td>\n",
       "      <td>finding common prefix of array of strings</td>\n",
       "    </tr>\n",
       "    <tr>\n",
       "      <th>3</th>\n",
       "      <td>1599813</td>\n",
       "      <td>1599813</td>\n",
       "      <td>Fetching data from transparent tables</td>\n",
       "    </tr>\n",
       "    <tr>\n",
       "      <th>4</th>\n",
       "      <td>1692683</td>\n",
       "      <td>1692683</td>\n",
       "      <td>How to instantiate MsftRawCDImageCreator?</td>\n",
       "    </tr>\n",
       "    <tr>\n",
       "      <th>...</th>\n",
       "      <td>...</td>\n",
       "      <td>...</td>\n",
       "      <td>...</td>\n",
       "    </tr>\n",
       "    <tr>\n",
       "      <th>4143</th>\n",
       "      <td>64516810</td>\n",
       "      <td>64516810</td>\n",
       "      <td>Tensorflow Beginner, Basic Question On Linear ...</td>\n",
       "    </tr>\n",
       "    <tr>\n",
       "      <th>4144</th>\n",
       "      <td>64517048</td>\n",
       "      <td>64517048</td>\n",
       "      <td>Pandas .loc and PEP8</td>\n",
       "    </tr>\n",
       "    <tr>\n",
       "      <th>4145</th>\n",
       "      <td>64516828</td>\n",
       "      <td>64516828</td>\n",
       "      <td>Is a bad idea a cycle in the relationship to t...</td>\n",
       "    </tr>\n",
       "    <tr>\n",
       "      <th>4146</th>\n",
       "      <td>64518768</td>\n",
       "      <td>64518768</td>\n",
       "      <td>Is there a benefit to using .json file extensi...</td>\n",
       "    </tr>\n",
       "    <tr>\n",
       "      <th>4147</th>\n",
       "      <td>64520045</td>\n",
       "      <td>64520045</td>\n",
       "      <td>Remove / replace spaces on backend prior to up...</td>\n",
       "    </tr>\n",
       "  </tbody>\n",
       "</table>\n",
       "<p>4148 rows × 3 columns</p>\n",
       "</div>"
      ],
      "text/plain": [
       "          Id.1    PostId                                              Title\n",
       "0       148249    148249  Is there any way to check which kind of RAM my...\n",
       "1       289537    289537          A cool algorithm to check a Sudoku field?\n",
       "2      1336207   1336207          finding common prefix of array of strings\n",
       "3      1599813   1599813              Fetching data from transparent tables\n",
       "4      1692683   1692683          How to instantiate MsftRawCDImageCreator?\n",
       "...        ...       ...                                                ...\n",
       "4143  64516810  64516810  Tensorflow Beginner, Basic Question On Linear ...\n",
       "4144  64517048  64517048                               Pandas .loc and PEP8\n",
       "4145  64516828  64516828  Is a bad idea a cycle in the relationship to t...\n",
       "4146  64518768  64518768  Is there a benefit to using .json file extensi...\n",
       "4147  64520045  64520045  Remove / replace spaces on backend prior to up...\n",
       "\n",
       "[4148 rows x 3 columns]"
      ]
     },
     "execution_count": 11,
     "metadata": {},
     "output_type": "execute_result"
    }
   ],
   "source": [
    "df_closed[['Id.1', 'PostId', 'Title']]"
   ]
  },
  {
   "cell_type": "code",
   "execution_count": 12,
   "metadata": {},
   "outputs": [],
   "source": [
    "df_closed['Qid'] = df_closed['PostId']\n",
    "df_open['Qid'] = df_open['Id']\n",
    "feature_label_columns = ['Qid', 'Title', 'Body', 'Tags', 'Label']\n",
    "\n",
    "# get features. ids and labels\n",
    "df_open_features = df_open[feature_label_columns]\n",
    "df_closed_features = df_closed[feature_label_columns]"
   ]
  },
  {
   "cell_type": "code",
   "execution_count": 13,
   "metadata": {},
   "outputs": [],
   "source": [
    "df_total_features = df_open_features.append(df_closed_features)"
   ]
  },
  {
   "cell_type": "code",
   "execution_count": 15,
   "metadata": {},
   "outputs": [
    {
     "data": {
      "text/plain": [
       "set()"
      ]
     },
     "execution_count": 15,
     "metadata": {},
     "output_type": "execute_result"
    }
   ],
   "source": [
    "df_closed['PostId'].is_unique, df_open['Id'].is_unique\n",
    "set(df_closed['PostId']).intersection(set(df_open['Id']))"
   ]
  },
  {
   "cell_type": "code",
   "execution_count": 16,
   "metadata": {},
   "outputs": [
    {
     "data": {
      "text/plain": [
       "True"
      ]
     },
     "execution_count": 16,
     "metadata": {},
     "output_type": "execute_result"
    }
   ],
   "source": [
    "# check if all ids are unique\n",
    "df_total_features['Qid'].is_unique"
   ]
  },
  {
   "cell_type": "code",
   "execution_count": 17,
   "metadata": {},
   "outputs": [],
   "source": [
    "df_total_features = df_total_features.sample(frac = 1) "
   ]
  },
  {
   "cell_type": "code",
   "execution_count": 18,
   "metadata": {},
   "outputs": [],
   "source": [
    "df_total_features.to_csv(os.path.join(FOLDER_PATH,'so_questions_labelled.csv'), index=False)"
   ]
  },
  {
   "cell_type": "code",
   "execution_count": null,
   "metadata": {},
   "outputs": [],
   "source": []
  }
 ],
 "metadata": {
  "kernelspec": {
   "display_name": "python3_main",
   "language": "python",
   "name": "python3_main"
  },
  "language_info": {
   "codemirror_mode": {
    "name": "ipython",
    "version": 3
   },
   "file_extension": ".py",
   "mimetype": "text/x-python",
   "name": "python",
   "nbconvert_exporter": "python",
   "pygments_lexer": "ipython3",
   "version": "3.8.5"
  }
 },
 "nbformat": 4,
 "nbformat_minor": 1
}
