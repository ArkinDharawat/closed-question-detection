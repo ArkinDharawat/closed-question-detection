{
 "cells": [
  {
   "cell_type": "code",
   "execution_count": 3,
   "metadata": {},
   "outputs": [],
   "source": [
    "import pandas as pd\n",
    "import os\n",
    "FOLDER_PATH=\"../so_dataset\""
   ]
  },
  {
   "cell_type": "code",
   "execution_count": 4,
   "metadata": {
    "pycharm": {
     "name": "#%%\n"
    }
   },
   "outputs": [],
   "source": [
    "df_open = pd.read_csv(os.path.join(FOLDER_PATH, \"so_questions_open.csv\"))\n",
    "df_closed = pd.read_csv(os.path.join(FOLDER_PATH,\"so_questions_closed.csv\"))"
   ]
  },
  {
   "cell_type": "code",
   "execution_count": 49,
   "metadata": {},
   "outputs": [],
   "source": [
    "df_open['Label'] = 0 # open questions"
   ]
  },
  {
   "cell_type": "code",
   "execution_count": 50,
   "metadata": {},
   "outputs": [
    {
     "data": {
      "text/plain": [
       "0    5000\n",
       "Name: Label, dtype: int64"
      ]
     },
     "execution_count": 50,
     "metadata": {},
     "output_type": "execute_result"
    }
   ],
   "source": [
    "df_open['Label'].value_counts()"
   ]
  },
  {
   "cell_type": "code",
   "execution_count": 51,
   "metadata": {},
   "outputs": [],
   "source": [
    "def convert_label(close_reason_type_id):\n",
    "    \"\"\"\n",
    "    Refer to this for label details: \n",
    "    https://www.researchgate.net/publication/339447769_Why_Will_My_Question_Be_Closed_NLP-Based_Pre-Submission_Predictions_of_Question_Closing_Reasons_on_Stack_Overflow\n",
    "    \"\"\"\n",
    "    if close_reason_type_id == 102:\n",
    "        return 1 # off-topic\n",
    "    elif close_reason_type_id == 103:\n",
    "        return 2 # unclear\n",
    "    elif close_reason_type_id == 104:\n",
    "        return 3 # broad\n",
    "    elif close_reason_type_id == 105:\n",
    "        return 4 # opinion\n",
    "df_closed['Label'] = df_closed['CloseReasonTypeId'].apply(convert_label)"
   ]
  },
  {
   "cell_type": "code",
   "execution_count": 52,
   "metadata": {},
   "outputs": [
    {
     "data": {
      "text/plain": [
       "(1    1887\n",
       " 2    1810\n",
       " 3     714\n",
       " 4     115\n",
       " Name: Label, dtype: int64,\n",
       " (4526,))"
      ]
     },
     "execution_count": 52,
     "metadata": {},
     "output_type": "execute_result"
    }
   ],
   "source": [
    "df_closed['Label'].value_counts(), df_closed['Label'].shape"
   ]
  },
  {
   "cell_type": "code",
   "execution_count": 53,
   "metadata": {},
   "outputs": [
    {
     "data": {
      "text/html": [
       "<div>\n",
       "<style scoped>\n",
       "    .dataframe tbody tr th:only-of-type {\n",
       "        vertical-align: middle;\n",
       "    }\n",
       "\n",
       "    .dataframe tbody tr th {\n",
       "        vertical-align: top;\n",
       "    }\n",
       "\n",
       "    .dataframe thead th {\n",
       "        text-align: right;\n",
       "    }\n",
       "</style>\n",
       "<table border=\"1\" class=\"dataframe\">\n",
       "  <thead>\n",
       "    <tr style=\"text-align: right;\">\n",
       "      <th></th>\n",
       "      <th>Id</th>\n",
       "      <th>PostId</th>\n",
       "      <th>Title</th>\n",
       "    </tr>\n",
       "  </thead>\n",
       "  <tbody>\n",
       "    <tr>\n",
       "      <th>0</th>\n",
       "      <td>29228751</td>\n",
       "      <td>480775</td>\n",
       "      <td>Deserialize json response</td>\n",
       "    </tr>\n",
       "    <tr>\n",
       "      <th>1</th>\n",
       "      <td>29226103</td>\n",
       "      <td>1106082</td>\n",
       "      <td>How to Read a file word by word and use those ...</td>\n",
       "    </tr>\n",
       "    <tr>\n",
       "      <th>2</th>\n",
       "      <td>29241110</td>\n",
       "      <td>3422719</td>\n",
       "      <td>How does Linear Layout behaves with empty views?</td>\n",
       "    </tr>\n",
       "    <tr>\n",
       "      <th>3</th>\n",
       "      <td>29240655</td>\n",
       "      <td>5402882</td>\n",
       "      <td>How can I migrate my MongoDB to RethinkDB?</td>\n",
       "    </tr>\n",
       "    <tr>\n",
       "      <th>4</th>\n",
       "      <td>29185734</td>\n",
       "      <td>5594275</td>\n",
       "      <td>Using Jackson to parse embedded JSON In anothe...</td>\n",
       "    </tr>\n",
       "    <tr>\n",
       "      <th>...</th>\n",
       "      <td>...</td>\n",
       "      <td>...</td>\n",
       "      <td>...</td>\n",
       "    </tr>\n",
       "    <tr>\n",
       "      <th>4521</th>\n",
       "      <td>29242523</td>\n",
       "      <td>64055796</td>\n",
       "      <td>SQL JOIN COUNT and SELECT in Rails 4</td>\n",
       "    </tr>\n",
       "    <tr>\n",
       "      <th>4522</th>\n",
       "      <td>29242493</td>\n",
       "      <td>64055862</td>\n",
       "      <td>Transfer files from S3 to FTP</td>\n",
       "    </tr>\n",
       "    <tr>\n",
       "      <th>4523</th>\n",
       "      <td>29242511</td>\n",
       "      <td>64055912</td>\n",
       "      <td>oracle 11g - remove duplicate entries after join</td>\n",
       "    </tr>\n",
       "    <tr>\n",
       "      <th>4524</th>\n",
       "      <td>29242530</td>\n",
       "      <td>64055943</td>\n",
       "      <td>Jackson generic json to List&lt;T&gt; converter meth...</td>\n",
       "    </tr>\n",
       "    <tr>\n",
       "      <th>4525</th>\n",
       "      <td>29242789</td>\n",
       "      <td>64056369</td>\n",
       "      <td>Unparseable date exception while converting UT...</td>\n",
       "    </tr>\n",
       "  </tbody>\n",
       "</table>\n",
       "<p>4526 rows × 3 columns</p>\n",
       "</div>"
      ],
      "text/plain": [
       "            Id    PostId                                              Title\n",
       "0     29228751    480775                          Deserialize json response\n",
       "1     29226103   1106082  How to Read a file word by word and use those ...\n",
       "2     29241110   3422719   How does Linear Layout behaves with empty views?\n",
       "3     29240655   5402882         How can I migrate my MongoDB to RethinkDB?\n",
       "4     29185734   5594275  Using Jackson to parse embedded JSON In anothe...\n",
       "...        ...       ...                                                ...\n",
       "4521  29242523  64055796               SQL JOIN COUNT and SELECT in Rails 4\n",
       "4522  29242493  64055862                      Transfer files from S3 to FTP\n",
       "4523  29242511  64055912   oracle 11g - remove duplicate entries after join\n",
       "4524  29242530  64055943  Jackson generic json to List<T> converter meth...\n",
       "4525  29242789  64056369  Unparseable date exception while converting UT...\n",
       "\n",
       "[4526 rows x 3 columns]"
      ]
     },
     "execution_count": 53,
     "metadata": {},
     "output_type": "execute_result"
    }
   ],
   "source": [
    "df_closed[['Id', 'PostId', 'Title']]"
   ]
  },
  {
   "cell_type": "code",
   "execution_count": 54,
   "metadata": {},
   "outputs": [],
   "source": [
    "df_closed['Qid'] = df_closed['Id']\n",
    "df_open['Qid'] = df_open['Id']\n",
    "feature_label_columns = ['Qid', 'Title', 'Body', 'Tags', 'Label']\n",
    "\n",
    "# get features. ids and labels\n",
    "df_open_features = df_open[feature_label_columns]\n",
    "df_closed_features = df_closed[feature_label_columns]"
   ]
  },
  {
   "cell_type": "code",
   "execution_count": 55,
   "metadata": {},
   "outputs": [],
   "source": [
    "df_total_features = df_open_features.append(df_closed_features)"
   ]
  },
  {
   "cell_type": "code",
   "execution_count": 56,
   "metadata": {},
   "outputs": [
    {
     "data": {
      "text/plain": [
       "set()"
      ]
     },
     "execution_count": 56,
     "metadata": {},
     "output_type": "execute_result"
    }
   ],
   "source": [
    "df_closed['PostId'].is_unique, df_open['Id'].is_unique\n",
    "set(df_closed['PostId']).intersection(set(df_open['Id']))"
   ]
  },
  {
   "cell_type": "code",
   "execution_count": 57,
   "metadata": {},
   "outputs": [
    {
     "data": {
      "text/plain": [
       "True"
      ]
     },
     "execution_count": 57,
     "metadata": {},
     "output_type": "execute_result"
    }
   ],
   "source": [
    "# check if all ids are unique\n",
    "df_total_features['Qid'].is_unique"
   ]
  },
  {
   "cell_type": "code",
   "execution_count": 58,
   "metadata": {},
   "outputs": [],
   "source": [
    "df_total_features = df_total_features.sample(frac = 1) "
   ]
  },
  {
   "cell_type": "code",
   "execution_count": 59,
   "metadata": {},
   "outputs": [],
   "source": [
    "df_total_features.to_csv(os.path.join(FOLDER_PATH,'so_questions_labelled.csv'), index=False)"
   ]
  },
  {
   "cell_type": "code",
   "execution_count": null,
   "metadata": {},
   "outputs": [],
   "source": []
  }
 ],
 "metadata": {
  "kernelspec": {
   "display_name": "python3_main",
   "language": "python",
   "name": "python3_main"
  },
  "language_info": {
   "codemirror_mode": {
    "name": "ipython",
    "version": 3
   },
   "file_extension": ".py",
   "mimetype": "text/x-python",
   "name": "python",
   "nbconvert_exporter": "python",
   "pygments_lexer": "ipython3",
   "version": "3.8.5"
  }
 },
 "nbformat": 4,
 "nbformat_minor": 1
}
