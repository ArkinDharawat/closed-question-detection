{
 "cells": [
  {
   "cell_type": "code",
   "execution_count": 1,
   "metadata": {},
   "outputs": [
    {
     "data": {
      "text/plain": [
       "'/Users/arkin/cs229_materials/closed-question-detection/venv/bin/python'"
      ]
     },
     "execution_count": 1,
     "metadata": {},
     "output_type": "execute_result"
    }
   ],
   "source": [
    "import sys\n",
    "sys.executable"
   ]
  },
  {
   "cell_type": "code",
   "execution_count": 2,
   "metadata": {},
   "outputs": [],
   "source": [
    "import pandas as pd\n",
    "import os\n",
    "FOLDER_PATH=\"../so_dataset\"\n",
    "from utils import body_strip_tags, just_text, filter_sentence, get_tag_list, remove_filpaths"
   ]
  },
  {
   "cell_type": "code",
   "execution_count": 3,
   "metadata": {},
   "outputs": [],
   "source": [
    "df_total_features = pd.read_csv(os.path.join(FOLDER_PATH,\"so_questions_labelled.csv\"))"
   ]
  },
  {
   "cell_type": "code",
   "execution_count": 4,
   "metadata": {},
   "outputs": [
    {
     "data": {
      "text/plain": [
       "(64303805, 3)"
      ]
     },
     "execution_count": 4,
     "metadata": {},
     "output_type": "execute_result"
    }
   ],
   "source": [
    "index = 0\n",
    "df_total_features['Qid'].iloc[index],df_total_features['Label'].iloc[index]"
   ]
  },
  {
   "cell_type": "code",
   "execution_count": 5,
   "metadata": {},
   "outputs": [
    {
     "data": {
      "text/plain": [
       "('How to convert a Python list of dictionary with same key value into dictionary with list of values',\n",
       " '<python><python-3.x><dictionary>')"
      ]
     },
     "execution_count": 5,
     "metadata": {},
     "output_type": "execute_result"
    }
   ],
   "source": [
    "df_total_features['Title'].iloc[index], df_total_features['Tags'].iloc[index]"
   ]
  },
  {
   "cell_type": "code",
   "execution_count": 6,
   "metadata": {},
   "outputs": [],
   "source": [
    "df_total_features['title'] = df_total_features['Title'].apply(lambda x: ' '.join(filter_sentence(x)).lower())"
   ]
  },
  {
   "cell_type": "code",
   "execution_count": 7,
   "metadata": {},
   "outputs": [],
   "source": [
    "df_total_features['tag_list'] = df_total_features['Tags'].apply(lambda x: get_tag_list(x))"
   ]
  },
  {
   "cell_type": "code",
   "execution_count": 8,
   "metadata": {},
   "outputs": [
    {
     "data": {
      "text/plain": [
       "\"<p>I have a list of dictionary like this:</p>\\n<pre><code>mylist = [\\n    {'survival': 124, 'organ': 'Stomach'}\\n    {'survival': 42, 'organ': 'Stomach'}\\n    ]\\n</code></pre>\\n<p>I want to change this into a dictionary with same keys to have list of value like so:</p>\\n<pre><code>myDict = {\\n  &quot;survival&quot;:[124,42],\\n  &quot;organ&quot;:[&quot;Stomach&quot;,&quot;Stomach&quot;]\\n}\\n</code></pre>\\n\""
      ]
     },
     "execution_count": 8,
     "metadata": {},
     "output_type": "execute_result"
    }
   ],
   "source": [
    "df_total_features['Body'].iloc[index]"
   ]
  },
  {
   "cell_type": "code",
   "execution_count": 9,
   "metadata": {
    "scrolled": true
   },
   "outputs": [
    {
     "data": {
      "text/plain": [
       "'I have a list of dictionary like this:I want to change this into a dictionary with same keys to have list of value like so:'"
      ]
     },
     "execution_count": 9,
     "metadata": {},
     "output_type": "execute_result"
    }
   ],
   "source": [
    "body_strip_tags(just_text(df_total_features['Body'].iloc[index]))"
   ]
  },
  {
   "cell_type": "code",
   "execution_count": 10,
   "metadata": {},
   "outputs": [],
   "source": [
    "df_total_features['body'] = df_total_features['Body'].apply(just_text).apply(body_strip_tags)"
   ]
  },
  {
   "cell_type": "code",
   "execution_count": 11,
   "metadata": {},
   "outputs": [
    {
     "name": "stderr",
     "output_type": "stream",
     "text": [
      "/Users/arkin/cs229_materials/closed-question-detection/data_extraction_cleaning/utils.py:34: FutureWarning: Possible nested set at position 1\n",
      "  return re.sub(r'[[\\w\\-\\:]*\\/[\\w\\-\\:]*\\/[\\w\\-\\:]*]*|[[\\w\\-\\:\\.]*\\\\[\\w\\-\\:]*\\\\[\\w\\-\\:]*]*', \"\", x)\n",
      "/Users/arkin/cs229_materials/closed-question-detection/data_extraction_cleaning/utils.py:34: FutureWarning: Possible nested set at position 36\n",
      "  return re.sub(r'[[\\w\\-\\:]*\\/[\\w\\-\\:]*\\/[\\w\\-\\:]*]*|[[\\w\\-\\:\\.]*\\\\[\\w\\-\\:]*\\\\[\\w\\-\\:]*]*', \"\", x)\n"
     ]
    }
   ],
   "source": [
    "df_total_features['body'] = df_total_features['body'].apply(remove_filpaths)"
   ]
  },
  {
   "cell_type": "code",
   "execution_count": 16,
   "metadata": {},
   "outputs": [],
   "source": [
    "from spacy.lang.en import English\n",
    "nlp = English()\n",
    "tokenizer = nlp.Defaults.create_tokenizer(nlp)\n",
    "\n",
    "def tokenize(text):\n",
    "    tokens = []\n",
    "    doc = tokenizer(text)\n",
    "    for token in doc:\n",
    "        if ('d' in token.shape_):\n",
    "            # token contains digit\n",
    "            continue\n",
    "        else:\n",
    "            tokens.append(token.text)\n",
    "    return '|'.join(tokens).lower()"
   ]
  },
  {
   "cell_type": "code",
   "execution_count": 17,
   "metadata": {},
   "outputs": [],
   "source": [
    "df_cleaned = df_total_features.dropna( how='any')"
   ]
  },
  {
   "cell_type": "code",
   "execution_count": 18,
   "metadata": {},
   "outputs": [],
   "source": [
    "df_cleaned['title'] = df_cleaned['title'].apply(tokenize)\n",
    "df_cleaned['body'] = df_cleaned['body'].apply(tokenize)"
   ]
  },
  {
   "cell_type": "code",
   "execution_count": 19,
   "metadata": {},
   "outputs": [],
   "source": [
    "df_cleaned.to_csv(os.path.join(FOLDER_PATH, \"so_questions_cleaned.csv\"), index=False)"
   ]
  },
  {
   "cell_type": "code",
   "execution_count": 21,
   "metadata": {},
   "outputs": [
    {
     "data": {
      "text/plain": [
       "0       i|have|a|list|of|dictionary|like|this|:|i|want...\n",
       "1       i|'m|porting|an|elixir|library|to|elm|that|use...\n",
       "2       trying|to|filter|boolean|field|,|but|it|brings...\n",
       "3       consider|the|following|code|:|i|create|a|funct...\n",
       "4       not|able|to|get|value|of|gridview|cells|.|i|am...\n",
       "                              ...                        \n",
       "6143    i|want|to|show|an|section|when|the|checkbox|is...\n",
       "6144    [|cpu|use|pytorch|to|train|dnn|,|but|i|find|th...\n",
       "6145    i|was|install|kubernetes|by|kubespray|,|my|kub...\n",
       "6146    what|is|wrong|in|code|?|why|the|redirection|to...\n",
       "6147    i|have|a|data|set|with|scores|and|categories|i...\n",
       "Name: body, Length: 6148, dtype: object"
      ]
     },
     "execution_count": 21,
     "metadata": {},
     "output_type": "execute_result"
    }
   ],
   "source": [
    "df_cleaned['body']"
   ]
  },
  {
   "cell_type": "code",
   "execution_count": 25,
   "metadata": {},
   "outputs": [
    {
     "data": {
      "text/plain": [
       "0    2000\n",
       "1    1848\n",
       "2    1374\n",
       "3     816\n",
       "4     110\n",
       "Name: Label, dtype: int64"
      ]
     },
     "execution_count": 25,
     "metadata": {},
     "output_type": "execute_result"
    }
   ],
   "source": [
    "df_cleaned['Label'].value_counts()"
   ]
  },
  {
   "cell_type": "code",
   "execution_count": null,
   "metadata": {},
   "outputs": [],
   "source": []
  }
 ],
 "metadata": {
  "kernelspec": {
   "display_name": "Python 3",
   "language": "python",
   "name": "python3"
  },
  "language_info": {
   "codemirror_mode": {
    "name": "ipython",
    "version": 3
   },
   "file_extension": ".py",
   "mimetype": "text/x-python",
   "name": "python",
   "nbconvert_exporter": "python",
   "pygments_lexer": "ipython3",
   "version": "3.8.5"
  }
 },
 "nbformat": 4,
 "nbformat_minor": 4
}
