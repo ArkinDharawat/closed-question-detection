{
 "cells": [
  {
   "cell_type": "code",
   "execution_count": 1,
   "metadata": {},
   "outputs": [
    {
     "data": {
      "text/plain": [
       "'/Users/arkin/cs229_materials/closed-question-detection/venv/bin/python'"
      ]
     },
     "execution_count": 1,
     "metadata": {},
     "output_type": "execute_result"
    }
   ],
   "source": [
    "import sys\n",
    "sys.executable"
   ]
  },
  {
   "cell_type": "code",
   "execution_count": 27,
   "metadata": {},
   "outputs": [],
   "source": [
    "import pandas as pd\n",
    "import os\n",
    "FOLDER_PATH=\"../so_dataset\"\n",
    "from utils import body_strip_tags, just_text, filter_sentence, get_tag_list, remove_filpaths"
   ]
  },
  {
   "cell_type": "code",
   "execution_count": 28,
   "metadata": {},
   "outputs": [],
   "source": [
    "df_total_features = pd.read_csv(os.path.join(FOLDER_PATH,\"so_questions_labelled.csv\"))"
   ]
  },
  {
   "cell_type": "code",
   "execution_count": 29,
   "metadata": {},
   "outputs": [
    {
     "data": {
      "text/plain": [
       "(64303805, 3)"
      ]
     },
     "execution_count": 29,
     "metadata": {},
     "output_type": "execute_result"
    }
   ],
   "source": [
    "index = 0\n",
    "df_total_features['Qid'].iloc[index],df_total_features['Label'].iloc[index]"
   ]
  },
  {
   "cell_type": "code",
   "execution_count": 30,
   "metadata": {},
   "outputs": [
    {
     "data": {
      "text/plain": [
       "('How to convert a Python list of dictionary with same key value into dictionary with list of values',\n",
       " '<python><python-3.x><dictionary>')"
      ]
     },
     "execution_count": 30,
     "metadata": {},
     "output_type": "execute_result"
    }
   ],
   "source": [
    "df_total_features['Title'].iloc[index], df_total_features['Tags'].iloc[index]"
   ]
  },
  {
   "cell_type": "code",
   "execution_count": 79,
   "metadata": {},
   "outputs": [],
   "source": [
    "df_total_features['title'] = df_total_features['Title'].apply(lambda x: ' '.join(filter_sentence(x)).lower())"
   ]
  },
  {
   "cell_type": "code",
   "execution_count": 80,
   "metadata": {},
   "outputs": [],
   "source": [
    "df_total_features['tag_list'] = df_total_features['Tags'].apply(lambda x: get_tag_list(x))"
   ]
  },
  {
   "cell_type": "code",
   "execution_count": 81,
   "metadata": {},
   "outputs": [
    {
     "data": {
      "text/plain": [
       "\"<p>I have a list of dictionary like this:</p>\\n<pre><code>mylist = [\\n    {'survival': 124, 'organ': 'Stomach'}\\n    {'survival': 42, 'organ': 'Stomach'}\\n    ]\\n</code></pre>\\n<p>I want to change this into a dictionary with same keys to have list of value like so:</p>\\n<pre><code>myDict = {\\n  &quot;survival&quot;:[124,42],\\n  &quot;organ&quot;:[&quot;Stomach&quot;,&quot;Stomach&quot;]\\n}\\n</code></pre>\\n\""
      ]
     },
     "execution_count": 81,
     "metadata": {},
     "output_type": "execute_result"
    }
   ],
   "source": [
    "df_total_features['Body'].iloc[index]"
   ]
  },
  {
   "cell_type": "code",
   "execution_count": 82,
   "metadata": {
    "scrolled": true
   },
   "outputs": [
    {
     "data": {
      "text/plain": [
       "'I have a list of dictionary like this:I want to change this into a dictionary with same keys to have list of value like so:'"
      ]
     },
     "execution_count": 82,
     "metadata": {},
     "output_type": "execute_result"
    }
   ],
   "source": [
    "body_strip_tags(just_text(df_total_features['Body'].iloc[index]))"
   ]
  },
  {
   "cell_type": "code",
   "execution_count": 83,
   "metadata": {},
   "outputs": [],
   "source": [
    "df_total_features['body'] = df_total_features['Body'].apply(just_text).apply(body_strip_tags)"
   ]
  },
  {
   "cell_type": "code",
   "execution_count": 84,
   "metadata": {},
   "outputs": [],
   "source": [
    "df_total_features['body'] = df_total_features['body'].apply(remove_filpaths)"
   ]
  },
  {
   "cell_type": "code",
   "execution_count": 85,
   "metadata": {},
   "outputs": [],
   "source": [
    "from spacy.lang.en import English\n",
    "import spacy\n",
    "# nlp = English()\n",
    "nlp = spacy.load(\"en_core_web_sm\")\n",
    "tokenizer = nlp.Defaults.create_tokenizer(nlp)\n",
    "\n",
    "def tokenize(text, remove_stop_words=False, use_lemma=False):\n",
    "    tokens = []\n",
    "    doc = tokenizer(text)\n",
    "    for token in doc:\n",
    "        if 'd' not in token.shape_ and token.is_alpha:\n",
    "            if remove_stop_words and token.is_stop:\n",
    "                continue # ignore stop words\n",
    "            # print(token.is_stop)\n",
    "            if use_lemma:\n",
    "                tokens.append(token.lemma_)\n",
    "            else:\n",
    "                tokens.append(token.text)\n",
    "    return '|'.join(tokens).lower()"
   ]
  },
  {
   "cell_type": "code",
   "execution_count": 86,
   "metadata": {},
   "outputs": [],
   "source": [
    "df_cleaned = df_total_features.dropna( how='any')"
   ]
  },
  {
   "cell_type": "code",
   "execution_count": 88,
   "metadata": {},
   "outputs": [
    {
     "name": "stdout",
     "output_type": "stream",
     "text": [
      "I have a list of dictionary like this:I want to change this into a dictionary with same keys to have list of value like so:\n"
     ]
    },
    {
     "data": {
      "text/plain": [
       "'i|have|a|list|of|dictionary|like|this|i|want|to|change|this|into|a|dictionary|with|same|keys|to|have|list|of|value|like|so'"
      ]
     },
     "execution_count": 88,
     "metadata": {},
     "output_type": "execute_result"
    }
   ],
   "source": [
    "w = df_cleaned['body'].iloc[index]\n",
    "print(w)\n",
    "tokenize(w, use_lemma=False, remove_stop_words=False)"
   ]
  },
  {
   "cell_type": "code",
   "execution_count": 89,
   "metadata": {},
   "outputs": [],
   "source": [
    "df_cleaned['title'] = df_cleaned['title'].apply(lambda x: tokenize(x, use_lemma=False, remove_stop_words=False))\n",
    "df_cleaned['body'] = df_cleaned['body'].apply(lambda x: tokenize(x, use_lemma=False, remove_stop_words=False))"
   ]
  },
  {
   "cell_type": "code",
   "execution_count": 90,
   "metadata": {},
   "outputs": [],
   "source": [
    "df_cleaned.to_csv(os.path.join(FOLDER_PATH, \"so_questions_cleaned_rm_stopw.csv\"), index=False)"
   ]
  },
  {
   "cell_type": "code",
   "execution_count": 91,
   "metadata": {},
   "outputs": [
    {
     "data": {
      "text/plain": [
       "0       i|have|a|list|of|dictionary|like|this|i|want|t...\n",
       "1       i|porting|an|elixir|library|to|elm|that|uses|t...\n",
       "2       trying|to|filter|boolean|field|but|it|brings|t...\n",
       "3       consider|the|following|code|i|create|a|functio...\n",
       "4       not|able|to|get|value|of|gridview|cells|i|am|b...\n",
       "                              ...                        \n",
       "6143    i|want|to|show|an|section|when|the|checkbox|is...\n",
       "6144    cpu|use|pytorch|to|train|dnn|but|i|find|that|a...\n",
       "6145    i|was|install|kubernetes|by|kubespray|my|kubes...\n",
       "6146    what|is|wrong|in|code|why|the|redirection|to|r...\n",
       "6147    i|have|a|data|set|with|scores|and|categories|i...\n",
       "Name: body, Length: 6148, dtype: object"
      ]
     },
     "execution_count": 91,
     "metadata": {},
     "output_type": "execute_result"
    }
   ],
   "source": [
    "df_cleaned['body']"
   ]
  },
  {
   "cell_type": "code",
   "execution_count": 92,
   "metadata": {},
   "outputs": [
    {
     "data": {
      "text/plain": [
       "0    2000\n",
       "1    1848\n",
       "2    1374\n",
       "3     816\n",
       "4     110\n",
       "Name: Label, dtype: int64"
      ]
     },
     "execution_count": 92,
     "metadata": {},
     "output_type": "execute_result"
    }
   ],
   "source": [
    "df_cleaned['Label'].value_counts()"
   ]
  },
  {
   "cell_type": "code",
   "execution_count": null,
   "metadata": {},
   "outputs": [],
   "source": []
  }
 ],
 "metadata": {
  "kernelspec": {
   "display_name": "Python 3",
   "language": "python",
   "name": "python3"
  },
  "language_info": {
   "codemirror_mode": {
    "name": "ipython",
    "version": 3
   },
   "file_extension": ".py",
   "mimetype": "text/x-python",
   "name": "python",
   "nbconvert_exporter": "python",
   "pygments_lexer": "ipython3",
   "version": "3.8.5"
  }
 },
 "nbformat": 4,
 "nbformat_minor": 4
}