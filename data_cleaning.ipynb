{
 "cells": [
  {
   "cell_type": "code",
   "execution_count": 2,
   "metadata": {},
   "outputs": [],
   "source": [
    "import pandas as pd\n",
    "import os\n",
    "import re\n",
    "FOLDER_PATH=\"so_dataset\"\n",
    "from utils import body_strip_tags, just_text, filter_sentence, get_tag_list"
   ]
  },
  {
   "cell_type": "code",
   "execution_count": 3,
   "metadata": {},
   "outputs": [],
   "source": [
    "df_total_features = pd.read_csv(os.path.join(FOLDER_PATH,\"so_questions_labelled.csv\"))"
   ]
  },
  {
   "cell_type": "code",
   "execution_count": 4,
   "metadata": {},
   "outputs": [
    {
     "data": {
      "text/plain": [
       "(29185507, 2)"
      ]
     },
     "execution_count": 4,
     "metadata": {},
     "output_type": "execute_result"
    }
   ],
   "source": [
    "index = 1234\n",
    "df_total_features['Qid'].iloc[index],df_total_features['Label'].iloc[index]"
   ]
  },
  {
   "cell_type": "code",
   "execution_count": 5,
   "metadata": {},
   "outputs": [
    {
     "data": {
      "text/plain": [
       "('Swift - Adding text to a resizable image', '<ios><iphone><xcode><swift>')"
      ]
     },
     "execution_count": 5,
     "metadata": {},
     "output_type": "execute_result"
    }
   ],
   "source": [
    "df_total_features['Title'].iloc[index], df_total_features['Tags'].iloc[index]"
   ]
  },
  {
   "cell_type": "code",
   "execution_count": 6,
   "metadata": {},
   "outputs": [],
   "source": [
    "df_total_features['title'] = df_total_features['Title'].apply(lambda x: ' '.join(filter_sentence(x)).lower())"
   ]
  },
  {
   "cell_type": "code",
   "execution_count": 10,
   "metadata": {},
   "outputs": [],
   "source": [
    "df_total_features['tag_list'] = df_total_features['Tags'].apply(lambda x: list(get_tag_list(x)))"
   ]
  },
  {
   "cell_type": "code",
   "execution_count": 5,
   "metadata": {},
   "outputs": [
    {
     "data": {
      "text/plain": [
       "'<p>I already posted a question about this but didn\\'t get a helpful answer, I\\'m very new to C++ and I\\'ve been stuck on this problem for over 3 hours and I\\'m sorry if it\\'s a stupid small thing but I can\\'t work it out.</p>\\n\\n<p>I\\'m trying to read information from a text file with the format:</p>\\n\\n<pre><code>1 David Davidson: 64 Zoo Lane\\n2 Homer Simpson: 123 Fake Street, Springfield\\n3 Craig Boone: Presidential Suite, Lucky 38, New Vegas\\n...etc\\n</code></pre>\\n\\n<p>I want to store the information in a class called Borrower with fields for their ID number, name, and address so I\\'ve overloaded the >> operator as follows:\\n(Borrower.cpp)</p>\\n\\n<pre><code>istream&amp; operator&gt;&gt;(istream&amp; in, Borrower&amp; b) {\\n    in &gt;&gt; b.idNumber;\\n    std::getline(in, b.name, \\':\\');\\n    in.ignore(1);\\n    in &gt;&gt; b.address;\\n    return in;\\n}\\n</code></pre>\\n\\n<p>and I\\'m implementing it in main.cpp like this:</p>\\n\\n<pre><code>    ifstream fileUsers;\\n    fileUsers.open(\"users.txt\");\\n    Borrower b;\\n    while (fileUsers.good()){\\n        fileUsers &gt;&gt; b;\\n        cout &lt;&lt; b;\\n    }\\n</code></pre>\\n\\n<p>I\\'m getting all sorts of errors and I can\\'t see what i\\'ve done wrong:\\nPlease help :(</p>\\n\\n<p><a href=\"http://i.stack.imgur.com/6kJoK.png\" rel=\"nofollow\">http://i.stack.imgur.com/6kJoK.png</a></p>\\n\\n<p>Edit: Class definition:</p>\\n\\n<pre><code>class Borrower {\\npublic:\\n    int idNumber;\\n    string name;\\n    string address;\\n    vector&lt;LibraryBook&gt; booksOnLoan;\\n    vector&lt;LibraryBook&gt; previousLoans;\\n    Borrower();\\n    Borrower(int theIdNumber, string theName, string theAddress);\\n    int getIdNumber();\\n    string getName();\\n    string getAddress();\\n    istream&amp; operator &gt;&gt;(istream&amp; in, Borrower&amp; b);\\n    ostream&amp; operator &lt;&lt;(ostream&amp; out, Borrower&amp; b);   \\n};\\n</code></pre>\\n'"
      ]
     },
     "execution_count": 5,
     "metadata": {},
     "output_type": "execute_result"
    }
   ],
   "source": [
    "df_total_features['Body'].iloc[index]"
   ]
  },
  {
   "cell_type": "code",
   "execution_count": 7,
   "metadata": {
    "scrolled": true
   },
   "outputs": [
    {
     "data": {
      "text/plain": [
       "\" I already posted a question about this but didn't get a helpful answer, I'm very new to C++ and I've been stuck on this problem for over 3 hours and I'm sorry if it's a stupid small thing but I can't work it out.    I'm trying to read information from a text file with the format:      I want to store the information in a class called Borrower with fields for their ID number, name, and address so I've overloaded the >> operator as follows: (Borrower.cpp)      and I'm implementing it in main.cpp like this:      I'm getting all sorts of errors and I can't see what i've done wrong: Please help :(         Edit: Class definition:    \""
      ]
     },
     "execution_count": 7,
     "metadata": {},
     "output_type": "execute_result"
    }
   ],
   "source": [
    "body_strip_tags(just_text(df_total_features['Body'].iloc[index]))"
   ]
  },
  {
   "cell_type": "code",
   "execution_count": 12,
   "metadata": {},
   "outputs": [],
   "source": [
    "clean_body_texts = df_total_features['Body'].apply(just_text).apply(body_strip_tags)"
   ]
  },
  {
   "cell_type": "code",
   "execution_count": null,
   "metadata": {},
   "outputs": [],
   "source": [
    "# TODO: Remove or handle sentences with code snippets in them. "
   ]
  }
 ],
 "metadata": {
  "kernelspec": {
   "display_name": "Python 3",
   "language": "python",
   "name": "python3"
  },
  "language_info": {
   "codemirror_mode": {
    "name": "ipython",
    "version": 3
   },
   "file_extension": ".py",
   "mimetype": "text/x-python",
   "name": "python",
   "nbconvert_exporter": "python",
   "pygments_lexer": "ipython3",
   "version": "3.7.5"
  }
 },
 "nbformat": 4,
 "nbformat_minor": 4
}
