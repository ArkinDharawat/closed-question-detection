{
 "cells": [
  {
   "cell_type": "code",
   "execution_count": 1,
   "metadata": {},
   "outputs": [],
   "source": [
    "import pandas as pd\n",
    "import os\n",
    "import re\n",
    "FOLDER_PATH=\"so_dataset\"\n",
    "from utils import body_strip_tags, just_text, filter_sentence, get_tag_list, remove_filpaths"
   ]
  },
  {
   "cell_type": "code",
   "execution_count": 2,
   "metadata": {},
   "outputs": [],
   "source": [
    "df_total_features = pd.read_csv(os.path.join(FOLDER_PATH,\"so_questions_labelled.csv\"))"
   ]
  },
  {
   "cell_type": "code",
   "execution_count": 3,
   "metadata": {},
   "outputs": [
    {
     "data": {
      "text/plain": [
       "(29185507, 2)"
      ]
     },
     "execution_count": 3,
     "metadata": {},
     "output_type": "execute_result"
    }
   ],
   "source": [
    "index = 1234\n",
    "df_total_features['Qid'].iloc[index],df_total_features['Label'].iloc[index]"
   ]
  },
  {
   "cell_type": "code",
   "execution_count": 4,
   "metadata": {},
   "outputs": [
    {
     "data": {
      "text/plain": [
       "('Swift - Adding text to a resizable image', '<ios><iphone><xcode><swift>')"
      ]
     },
     "execution_count": 4,
     "metadata": {},
     "output_type": "execute_result"
    }
   ],
   "source": [
    "df_total_features['Title'].iloc[index], df_total_features['Tags'].iloc[index]"
   ]
  },
  {
   "cell_type": "code",
   "execution_count": 5,
   "metadata": {},
   "outputs": [],
   "source": [
    "df_total_features['title'] = df_total_features['Title'].apply(lambda x: ' '.join(filter_sentence(x)).lower())"
   ]
  },
  {
   "cell_type": "code",
   "execution_count": 6,
   "metadata": {},
   "outputs": [],
   "source": [
    "df_total_features['tag_list'] = df_total_features['Tags'].apply(lambda x: list(get_tag_list(x)))"
   ]
  },
  {
   "cell_type": "code",
   "execution_count": 7,
   "metadata": {},
   "outputs": [
    {
     "data": {
      "text/plain": [
       "'<p>I\\'ve been fiddling around with different techniques on how to implement a resizable image in the <a href=\"https://developer.apple.com/library/ios/recipes/xcode_help-image_catalog-1.0/chapters/SlicinganImage.html\" rel=\"nofollow\">Asset Catalog</a>, but there are no examples out there on how to add text to these resizable images in <strong>Swift</strong> (even in Apple\\'s own guides) and allow them to resize dynamically.  </p>\\n\\n<p>If any knows how to do that, knows links to blogs which explain that, that will be helpful.</p>\\n'"
      ]
     },
     "execution_count": 7,
     "metadata": {},
     "output_type": "execute_result"
    }
   ],
   "source": [
    "df_total_features['Body'].iloc[index]"
   ]
  },
  {
   "cell_type": "code",
   "execution_count": 8,
   "metadata": {
    "scrolled": true
   },
   "outputs": [
    {
     "data": {
      "text/plain": [
       "\"I've been fiddling around with different techniques on how to implement a resizable image in the , but there are no examples out there on how to add text to these resizable images in Swift (even in Apple's own guides) and allow them to resize dynamically.  If any knows how to do that, knows links to blogs which explain that, that will be helpful.\""
      ]
     },
     "execution_count": 8,
     "metadata": {},
     "output_type": "execute_result"
    }
   ],
   "source": [
    "body_strip_tags(just_text(df_total_features['Body'].iloc[index]))"
   ]
  },
  {
   "cell_type": "code",
   "execution_count": 9,
   "metadata": {},
   "outputs": [],
   "source": [
    "df_total_features['body'] = df_total_features['Body'].apply(just_text).apply(body_strip_tags)"
   ]
  },
  {
   "cell_type": "code",
   "execution_count": 10,
   "metadata": {},
   "outputs": [
    {
     "name": "stderr",
     "output_type": "stream",
     "text": [
      "/Users/arkin/cs229_materials/closed-question-detection/utils.py:34: FutureWarning: Possible nested set at position 1\n",
      "  return re.sub(r'[[\\w\\-\\:]*\\/[\\w\\-\\:]*\\/[\\w\\-\\:]*]*|[[\\w\\-\\:\\.]*\\\\[\\w\\-\\:]*\\\\[\\w\\-\\:]*]*', \"\", x)\n",
      "/Users/arkin/cs229_materials/closed-question-detection/utils.py:34: FutureWarning: Possible nested set at position 36\n",
      "  return re.sub(r'[[\\w\\-\\:]*\\/[\\w\\-\\:]*\\/[\\w\\-\\:]*]*|[[\\w\\-\\:\\.]*\\\\[\\w\\-\\:]*\\\\[\\w\\-\\:]*]*', \"\", x)\n"
     ]
    }
   ],
   "source": [
    "df_total_features['body'] = df_total_features['body'].apply(remove_filpaths)"
   ]
  },
  {
   "cell_type": "code",
   "execution_count": 12,
   "metadata": {},
   "outputs": [],
   "source": [
    "df_total_features.to_csv(os.path.join(FOLDER_PATH, \"so_questions_cleaned.csv\"), index=False)"
   ]
  },
  {
   "cell_type": "code",
   "execution_count": null,
   "metadata": {},
   "outputs": [],
   "source": []
  }
 ],
 "metadata": {
  "kernelspec": {
   "display_name": "Python 3",
   "language": "python",
   "name": "python3"
  },
  "language_info": {
   "codemirror_mode": {
    "name": "ipython",
    "version": 3
   },
   "file_extension": ".py",
   "mimetype": "text/x-python",
   "name": "python",
   "nbconvert_exporter": "python",
   "pygments_lexer": "ipython3",
   "version": "3.7.5"
  }
 },
 "nbformat": 4,
 "nbformat_minor": 4
}
